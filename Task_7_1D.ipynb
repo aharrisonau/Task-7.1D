{
  "nbformat": 4,
  "nbformat_minor": 0,
  "metadata": {
    "colab": {
      "name": "Task 7.1D.ipynb",
      "provenance": [],
      "collapsed_sections": [],
      "authorship_tag": "ABX9TyO1/jtygNjEq4C72hxJWAO+",
      "include_colab_link": true
    },
    "kernelspec": {
      "name": "python3",
      "display_name": "Python 3"
    },
    "language_info": {
      "name": "python"
    }
  },
  "cells": [
    {
      "cell_type": "markdown",
      "metadata": {
        "id": "view-in-github",
        "colab_type": "text"
      },
      "source": [
        "<a href=\"https://colab.research.google.com/github/aharrisonau/Task-7.1D/blob/main/Task_7_1D.ipynb\" target=\"_parent\"><img src=\"https://colab.research.google.com/assets/colab-badge.svg\" alt=\"Open In Colab\"/></a>"
      ]
    },
    {
      "cell_type": "markdown",
      "metadata": {
        "id": "NgMp9IMXvzRm"
      },
      "source": [
        "#SIT796 Reinforcement Learning\n",
        "##Distinction Task 7.1: Function approximation implementation\n",
        "\n",
        "This task follows up 1.2C, which was the definition of a truck trailer reversing problem.\n",
        "\n",
        "In this task, the aim is to set up a policy value mapping for truck reversal.  To achieve this, the state space has been mapped to 4 variables;\n",
        "- pivot X [0 - 30] metres\n",
        "- pivot Y [-10 - 30] metres\n",
        "- prime mover angle [0 - 2pi] radians\n",
        "- trailer angle [0 - 2pi] radians\n",
        "\n",
        "\n",
        "Reward of 1 is achieved with;\n",
        "- pivot X,Y = near (10,0)\n",
        "- trailer angle = near 0\n"
      ]
    },
    {
      "cell_type": "code",
      "metadata": {
        "colab": {
          "base_uri": "https://localhost:8080/"
        },
        "id": "eSvpGUCCxnHZ",
        "outputId": "38f8cdef-9461-45c7-fba5-b5e0ab8e7b07"
      },
      "source": [
        "sum([1,2])"
      ],
      "execution_count": null,
      "outputs": [
        {
          "output_type": "execute_result",
          "data": {
            "text/plain": [
              "3"
            ]
          },
          "metadata": {
            "tags": []
          },
          "execution_count": 16
        }
      ]
    },
    {
      "cell_type": "code",
      "metadata": {
        "id": "cgJX3ttU_M-z"
      },
      "source": [
        "# import the environment\n",
        "# helper code from https://stackoverflow.com/questions/55835318/how-to-create-and-use-a-custom-openai-gym-environment-on-google-colab\n",
        "%%capture\n",
        "!rm -r ReverseTruck_env\n",
        "!git clone https://github.com/aharrisonau/gym-ReverseTruck.git\n",
        "!pip install -e gym-ReverseTruck\n"
      ],
      "execution_count": null,
      "outputs": []
    },
    {
      "cell_type": "markdown",
      "metadata": {
        "id": "X2hu1NHBiCD5"
      },
      "source": [
        "After running the block above, restart the runtime, otherwise the module wont be found"
      ]
    },
    {
      "cell_type": "code",
      "metadata": {
        "id": "JRUatJ09_kNj"
      },
      "source": [
        "import gym_ReverseTruck"
      ],
      "execution_count": null,
      "outputs": []
    },
    {
      "cell_type": "code",
      "metadata": {
        "id": "98bydycJ6VlZ"
      },
      "source": [
        "# preliminaries\n",
        "import pandas as pd\n",
        "import numpy as np\n",
        "import math as math\n",
        "import gym\n",
        "from gym import error, spaces, utils\n",
        "from gym.utils import seeding\n",
        "pi = math.pi\n",
        "import matplotlib.pyplot as plt\n",
        "\n",
        "SMALL_ENOUGH = 1e-3\n",
        "GAMMA = 0.9\n",
        "ALPHA = 0.1\n"
      ],
      "execution_count": null,
      "outputs": []
    },
    {
      "cell_type": "markdown",
      "metadata": {
        "id": "ItJ4eMfefI6R"
      },
      "source": [
        "Then we can create the environment\n",
        "\n",
        "Note that the environment requires a truck starting position, a truck setup file and a dictionary of obstacles passed to it"
      ]
    },
    {
      "cell_type": "code",
      "metadata": {
        "id": "VO_96lW8fcja"
      },
      "source": [
        "\n",
        "# the initial truck model has a prime mover length of 5m and a trailer of 10m\n",
        "# width of both is set as 2.5m, but not used yet\n",
        "TruckDefinition = np.array( [5.0, 2.5, 10.0, 2.5])\n",
        "\n",
        "# The truck starts with the back of the truck 10m directly out from the \n",
        "# end point (0,0) and in line with the finish position\n",
        "# This is a trivial start point, where the truck can reverse straight backwards\n",
        "# This is chosen so that the learning has a possibility of finding the \n",
        "# reward point to drive further learning\n",
        "# Note that the position is consistent with the truck definition\n",
        "StartPosition = np.array( [20.0,0.0,0.0,0.0])\n",
        "\n",
        "# this defines how far backwards in m, the truck moves at each step\n",
        "MoveDistance = 2.0\n",
        "\n",
        "# No obstacles are used yet\n",
        "Obstacles = {}\n"
      ],
      "execution_count": null,
      "outputs": []
    },
    {
      "cell_type": "code",
      "metadata": {
        "colab": {
          "base_uri": "https://localhost:8080/"
        },
        "id": "asY3fHLVllT1",
        "outputId": "69515b65-562c-4c7a-d6f6-165e5a09a2f1"
      },
      "source": [
        "env = gym.make('ReverseTruck-v0',TruckDefinition=TruckDefinition, StartPosition=StartPosition, MoveDistance=MoveDistance, Obstacles=Obstacles)"
      ],
      "execution_count": null,
      "outputs": [
        {
          "output_type": "stream",
          "text": [
            "/usr/local/lib/python3.7/dist-packages/gym/logger.py:30: UserWarning: \u001b[33mWARN: Box bound precision lowered by casting to float32\u001b[0m\n",
            "  warnings.warn(colorize('%s: %s'%('WARN', msg % args), 'yellow'))\n"
          ],
          "name": "stderr"
        }
      ]
    },
    {
      "cell_type": "code",
      "metadata": {
        "id": "L7ZeeChD6qdO"
      },
      "source": [
        "# the calculations will be done in numpy for speed\n",
        "# first define the State Space co-ordinated for the array\n",
        "SSpivotX = np.arange(0,31)\n",
        "SSpivotY = np.arange(-10,31)\n",
        "SSpmAngle = np.linspace(0,2*pi,21)\n",
        "SStrlAngle = np.linspace(0,2*pi,21)"
      ],
      "execution_count": null,
      "outputs": []
    },
    {
      "cell_type": "code",
      "metadata": {
        "id": "KxY57j5Yxlpz"
      },
      "source": [
        "# set the allowable actions\n",
        "move = -1.0 #only going backwards\n",
        "steering = np.array([-1.0, -0.2, 0, 0.2, 1.0])"
      ],
      "execution_count": null,
      "outputs": []
    },
    {
      "cell_type": "markdown",
      "metadata": {
        "id": "reEfboniAw_o"
      },
      "source": [
        "Define some helper functions, in line with the work from Practical 2\n",
        "\n",
        "The code below returns the max value out of the Q-table."
      ]
    },
    {
      "cell_type": "code",
      "metadata": {
        "id": "HIvJEWoLmB_p"
      },
      "source": [
        "def max_dict(d):\n",
        "  # returns the argmax (key) and max (value) from a dictionary\n",
        "  max_key = None\n",
        "  max_val = float('-inf')\n",
        "  for k, v in d.items():\n",
        "    if v > max_val:\n",
        "      max_val = v\n",
        "      max_key = k\n",
        "  return max_key, max_val"
      ],
      "execution_count": null,
      "outputs": []
    },
    {
      "cell_type": "markdown",
      "metadata": {
        "id": "VyGyUHmkBK11"
      },
      "source": [
        "Similarly, we now proceed to define the random action routine that we will use for exploration."
      ]
    },
    {
      "cell_type": "code",
      "metadata": {
        "id": "5cF_CA2GmB_q"
      },
      "source": [
        "def random_action(a, eps=0.1):\n",
        "  # epsilon-soft to ensure all states are visited\n",
        "  p = np.random.random()\n",
        "  if p < (1 - eps):\n",
        "    return a\n",
        "  else:\n",
        "    return np.random.choice(steering)"
      ],
      "execution_count": null,
      "outputs": []
    },
    {
      "cell_type": "markdown",
      "metadata": {
        "id": "m1lUygfQhGHT"
      },
      "source": [
        "Now we define the q value functions for each action.  Note that a trivial policy will be defined at first (reversing straight back) and then e-greedy will be used to explore away from that intial policy\n",
        "\n",
        "The actions that we will use are;\n",
        "move = constant -1 (which is moving moveDistance back)\n",
        "steer = [-1, -0.2, 0, 0.2, 1] (corresponding from full lock right to full lock left)\n",
        "\n",
        "A polynomial gradient function will be used across the four state dimensions\n",
        "$$\\nabla \\hat{v}(\\mathcal{S},\\mathbf{w})= [x, y, a, b, xy, xa, xb, ya, yb, ab, 1]$$\n",
        "Note that every dimension has an interaction term with every other dimension"
      ]
    },
    {
      "cell_type": "code",
      "metadata": {
        "id": "CwTkhGcYL1ZQ"
      },
      "source": [
        "class Model:\n",
        "  def __init__(self):\n",
        "    # we set up a weights array that can be flattened into a vector\n",
        "    # steering actions are the rows, polynomial components are the columns\n",
        "    self.weights = np.ones((len(steering),11))*0.1\n",
        "    # set the initial greedy policy to reverse straight back from the start\n",
        "    # which is a trivial, but successful policy to initiate learning\n",
        "    #self.weights[2,] = np.ones(11)\n",
        "    self.theta = self.weights.ravel()\n",
        "\n",
        "\n",
        "  def sa2x(self, s, a):\n",
        "    x = np.zeros_like(self.weights)\n",
        "    for row in range(len(steering)):\n",
        "      if steering[row] == a:\n",
        "        x[row,0] = s[0]/30\n",
        "        x[row,1] = s[1]/30\n",
        "        x[row,2] = s[2]/2/pi\n",
        "        x[row,3] = s[3]/2/pi\n",
        "        x[row,4] = s[0] * s[1]/30/30\n",
        "        x[row,5] = s[0] * s[2]/30/2/pi\n",
        "        x[row,6] = s[0] * s[3]/30/2/pi\n",
        "        x[row,7] = s[1] * s[2]/30/2/pi\n",
        "        x[row,8] = s[1] * s[3]/30/2/pi\n",
        "        x[row,9] = s[2] * s[3]/2/pi/2/pi\n",
        "        x[row,10] = 1\n",
        "\n",
        "    return x.ravel()\n",
        "\n",
        "  def predict(self, s, a):\n",
        "    x = self.sa2x(s, a)\n",
        "    return self.theta.dot(x)\n",
        "\n",
        "  def grad(self, s, a):\n",
        "    return self.sa2x(s, a)"
      ],
      "execution_count": null,
      "outputs": []
    },
    {
      "cell_type": "markdown",
      "metadata": {
        "id": "n6JS7k3IVZD2"
      },
      "source": [
        "With the gradient well defined, now we can look a the prediction of the state-action pair using the equation\n",
        "\n",
        "$$Q^*(s,a) = \\langle\\nabla\\hat{v}(\\mathcal{S},\\mathbf{w}),\\mathbf{w}\\rangle$$"
      ]
    },
    {
      "cell_type": "code",
      "metadata": {
        "id": "8qlI4iUbmB_r"
      },
      "source": [
        "def getQs(model, s):\n",
        "  # we need Q(s,a) to choose an action\n",
        "  # i.e. a = argmax[a]{ Q(s,a) }\n",
        "  Qs = {}\n",
        "  for a in steering:\n",
        "    q_sa = model.predict(s, a)\n",
        "    Qs[a] = q_sa\n",
        "  return Qs"
      ],
      "execution_count": null,
      "outputs": []
    },
    {
      "cell_type": "markdown",
      "metadata": {
        "id": "JeEnr3OfXQ-i"
      },
      "source": [
        "With all the above defined, we can now implement the semi gradient Sarsa method to refine the Q-table. We do this as we \"experience\" the episode."
      ]
    },
    {
      "cell_type": "code",
      "metadata": {
        "colab": {
          "base_uri": "https://localhost:8080/"
        },
        "id": "fNSRIA0qmB_v",
        "outputId": "0e13f195-d983-4b21-c995-ecf2617c4326"
      },
      "source": [
        "# initialize model\n",
        "model = Model()\n",
        "\n",
        "# repeat until convergence\n",
        "t = 1.0\n",
        "t2 = 1.0\n",
        "deltas = []\n",
        "steps = []\n",
        "\n",
        "for it in range(10000):\n",
        "  done = False\n",
        "  if it % 10 == 0:\n",
        "    t += 0.01\n",
        "    t2 += 0.01\n",
        "  if it % 1000 == 0:\n",
        "    print(\"iteration:\", it)\n",
        "  alpha = ALPHA / t2  \n",
        "\n",
        "  # instead of 'generating' an epsiode, we will PLAY\n",
        "  # an episode within this loop\n",
        "  s=env.reset()\n",
        "  \n",
        "  # get Q(s) so we can choose the first action\n",
        "  Qs = getQs(model, s)\n",
        "\n",
        "  a = max_dict(Qs)[0]\n",
        "  a = random_action(a, eps=0.5/t) # epsilon-greedy\n",
        "  # a = random_action(a, eps=0.1) # epsilon-greedy - constant epsilon\n",
        "  # this provides the initial State (s) and action (a) for the episode\n",
        " \n",
        "\n",
        "  biggest_change = 0\n",
        "  step_count = 0\n",
        "  while not done:\n",
        "    step_count += 1\n",
        "    s2, r, done, _ = env.step((move,a))\n",
        "\n",
        "    # we need the next action as well since Q(s,a) depends on Q(s',a')\n",
        "    old_theta = model.theta.copy()\n",
        "    if done:\n",
        "      model.theta += alpha*(r - model.predict(s, a))*model.grad(s, a)\n",
        "      assert not np.isnan(model.theta[0])\n",
        "    else:\n",
        "      # not terminal\n",
        "      Qs2 = getQs(model, s2)\n",
        "      assert not np.isnan(Qs2[-1.0])\n",
        "      a2, maxQs2a2 = max_dict(Qs2)\n",
        "      a2 = random_action(a2, eps=0.5/t) # epsilon-greed\n",
        "\n",
        "      # we will update Q(s,a) AS we experience the episode\n",
        "      model.theta += alpha*(r + GAMMA*maxQs2a2 - model.predict(s, a))*model.grad(s, a)\n",
        "      assert not np.isnan(model.theta[0])\n",
        "      # next state becomes current state\n",
        "      s = s2\n",
        "      a = a2\n",
        "\n",
        "    biggest_change = max(biggest_change, np.abs(model.theta - old_theta).sum())\n",
        "  deltas.append(biggest_change)\n",
        "  steps.append(step_count)"
      ],
      "execution_count": null,
      "outputs": [
        {
          "output_type": "stream",
          "text": [
            "iteration: 0\n",
            "iteration: 1000\n",
            "iteration: 2000\n",
            "iteration: 3000\n",
            "iteration: 4000\n",
            "iteration: 5000\n",
            "iteration: 6000\n",
            "iteration: 7000\n",
            "iteration: 8000\n",
            "iteration: 9000\n"
          ],
          "name": "stdout"
        }
      ]
    },
    {
      "cell_type": "markdown",
      "metadata": {
        "id": "OXLD-D4T3qGH"
      },
      "source": [
        "We can now look at the learning curve from the iterations above"
      ]
    },
    {
      "cell_type": "code",
      "metadata": {
        "colab": {
          "base_uri": "https://localhost:8080/"
        },
        "id": "aOF7QXGmD2OE",
        "outputId": "4d410169-f7ce-4cdd-9480-cb393378b1a0"
      },
      "source": [
        "t"
      ],
      "execution_count": null,
      "outputs": [
        {
          "output_type": "execute_result",
          "data": {
            "text/plain": [
              "10.99999999999981"
            ]
          },
          "metadata": {
            "tags": []
          },
          "execution_count": 58
        }
      ]
    },
    {
      "cell_type": "code",
      "metadata": {
        "id": "iPu3XJX432Qt"
      },
      "source": [
        "av_steps = []\n",
        "for i in range(len(steps)):\n",
        "  sublist=steps[max(0,i-100):i+1]\n",
        "  av_steps.append(sum(sublist)/len(sublist))"
      ],
      "execution_count": null,
      "outputs": []
    },
    {
      "cell_type": "code",
      "metadata": {
        "colab": {
          "base_uri": "https://localhost:8080/",
          "height": 265
        },
        "id": "dkPBN0bs03vt",
        "outputId": "ea3144b4-de99-4d9b-8d24-3ad8f72ada41"
      },
      "source": [
        "plt.plot(av_steps)\n",
        "plt.show()"
      ],
      "execution_count": null,
      "outputs": [
        {
          "output_type": "display_data",
          "data": {
            "image/png": "[encoded data removed]",
            "text/plain": [
              "<Figure size 432x288 with 1 Axes>"
            ]
          },
          "metadata": {
            "tags": [],
            "needs_background": "light"
          }
        }
      ]
    },
    {
      "cell_type": "markdown",
      "metadata": {
        "id": "pwG-_Mn68TjD"
      },
      "source": [
        "Next, we will implement the model with true online Sarsa(lambda).  This is being used because the features of the model are not binary"
      ]
    },
    {
      "cell_type": "code",
      "metadata": {
        "colab": {
          "base_uri": "https://localhost:8080/"
        },
        "id": "xullGNvl8tHS",
        "outputId": "59d6d2d9-1603-4e96-87ea-34a0de6e05d1"
      },
      "source": [
        "# initialize model\n",
        "model = Model()\n",
        "\n",
        "trace_decay = 0.9\n",
        "\n",
        "\n",
        "# repeat until convergence\n",
        "t = 1.0\n",
        "t2 = 1.0\n",
        "deltas2 = []\n",
        "steps2 = []\n",
        "\n",
        "for it in range(10000):\n",
        "  done = False\n",
        "  if it % 10 == 0:\n",
        "    t += 0.01\n",
        "    t2 += 0.01\n",
        "  if it % 1000 == 0:\n",
        "    print(\"iteration:\", it)\n",
        "  alpha = ALPHA / t2  \n",
        "\n",
        "  # instead of 'generating' an epsiode, we will PLAY\n",
        "  # an episode within this loop\n",
        "  s=env.reset()\n",
        "  \n",
        "  # get Q(s) so we can choose the first action\n",
        "  Qs = getQs(model, s)\n",
        "\n",
        "  a = max_dict(Qs)[0]\n",
        "  a = random_action(a, eps=0.5/t) # epsilon-greedy\n",
        "  # this provides the initial State (s) and action (a) for the episode\n",
        "\n",
        "  x = model.sa2x(s,a)\n",
        "  z = np.zeros_like(x)\n",
        "  Q_old = 0.0\n",
        " \n",
        "\n",
        "  biggest_change = 0\n",
        "  step_count = 0\n",
        "  done = False\n",
        "  while not done:\n",
        "    step_count += 1\n",
        "    old_theta = model.theta.copy()\n",
        "    s2, r, done, _ = env.step((move,a))\n",
        "\n",
        "    Qs2 = getQs(model, s2)\n",
        "    a2, maxQs2a2 = max_dict(Qs2)\n",
        "    a2 = random_action(a2, eps=0.5/t) # epsilon-greedy\n",
        "\n",
        "    x2 =model.sa2x(s2,a2)\n",
        "    Q = model.theta.dot(x)\n",
        "    Q2 = model.theta.dot(x2)\n",
        "\n",
        "    delta = r + GAMMA * Q2 - Q\n",
        "    z = GAMMA * trace_decay * z + (1-alpha*GAMMA*trace_decay*z.dot(x))*x\n",
        "    model.theta += alpha*(delta+Q-Q_old)*z - alpha*(Q-Q_old)*x\n",
        "\n",
        "    Q_old=Q2\n",
        "    x = x2\n",
        "    a = a2\n",
        "\n",
        "    biggest_change = max(biggest_change, np.abs(model.theta - old_theta).sum())\n",
        "\n",
        "  deltas2.append(biggest_change)\n",
        "  steps2.append(step_count)"
      ],
      "execution_count": null,
      "outputs": [
        {
          "output_type": "stream",
          "text": [
            "iteration: 0\n",
            "iteration: 1000\n",
            "iteration: 2000\n",
            "iteration: 3000\n",
            "iteration: 4000\n",
            "iteration: 5000\n",
            "iteration: 6000\n",
            "iteration: 7000\n",
            "iteration: 8000\n",
            "iteration: 9000\n"
          ],
          "name": "stdout"
        }
      ]
    },
    {
      "cell_type": "code",
      "metadata": {
        "id": "w1SDdOagC4a_"
      },
      "source": [
        "av_steps2 = []\n",
        "for i in range(len(steps2)):\n",
        "  sublist=steps2[max(0,i-100):i+1]\n",
        "  av_steps2.append(sum(sublist)/len(sublist))"
      ],
      "execution_count": null,
      "outputs": []
    },
    {
      "cell_type": "code",
      "metadata": {
        "colab": {
          "base_uri": "https://localhost:8080/",
          "height": 265
        },
        "id": "3m4GxVWiC4bR",
        "outputId": "1edb2bfa-eeb2-45c2-e562-85a99cda176e"
      },
      "source": [
        "plt.plot(av_steps2)\n",
        "plt.show()"
      ],
      "execution_count": null,
      "outputs": [
        {
          "output_type": "display_data",
          "data": {
            "image/png": "[encoded data removed]",
            "text/plain": [
              "<Figure size 432x288 with 1 Axes>"
            ]
          },
          "metadata": {
            "tags": [],
            "needs_background": "light"
          }
        }
      ]
    },
    {
      "cell_type": "code",
      "metadata": {
        "id": "aaus7uzOEkOn",
        "colab": {
          "base_uri": "https://localhost:8080/",
          "height": 442
        },
        "outputId": "f3fee412-9998-484d-a134-e203b2da599c"
      },
      "source": [
        "plt.rcParams[\"figure.figsize\"] = (10,7)\n",
        "plt.plot(av_steps,label=\"SG Sarsa\")\n",
        "plt.plot(av_steps2,label=\"Online Sarsa\")\n",
        "plt.legend()\n",
        "plt.xlabel(\"Episode count\")\n",
        "plt.ylabel(\"100 episode average steps\")\n",
        "plt.show()"
      ],
      "execution_count": 76,
      "outputs": [
        {
          "output_type": "display_data",
          "data": {
            "image/png": "[encoded data removed]",
            "text/plain": [
              "<Figure size 720x504 with 1 Axes>"
            ]
          },
          "metadata": {
            "tags": [],
            "needs_background": "light"
          }
        }
      ]
    }
  ]
}